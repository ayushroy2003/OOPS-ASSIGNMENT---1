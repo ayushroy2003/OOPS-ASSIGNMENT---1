{
 "cells": [
  {
   "cell_type": "markdown",
   "id": "7ed288c2-4037-400e-803e-6e9882bfbcb4",
   "metadata": {},
   "source": [
    "Q1. Explain Class and Object with respect to Object-Oriented Programming. Give a suitable example.\n",
    "\n",
    "ANS - Class:\n",
    "A class is a blueprint or a template for creating objects. It defines the structure and behavior that objects of that class will have.\n",
    "It serves as a blueprint because it specifies what attributes (data members or properties) and methods (functions or behaviors) an object created from this class will have.\n",
    "Classes encapsulate data and the operations that can be performed on that data.\n",
    "Classes are user-defined data types that allow you to create instances of objects with the same attributes and behaviors.\n",
    "\n",
    "Object:\n",
    "An object is an instance of a class. It is a concrete representation of the class, with its own set of attribute values and the ability to perform actions defined by the class's methods.\n",
    "Objects are created based on the structure defined in the class, and they encapsulate specific data and state.\n",
    "\n",
    "EXAMPLE "
   ]
  },
  {
   "cell_type": "code",
   "execution_count": 1,
   "id": "8ee75396-110f-4fa2-aa7a-140bb753a1e0",
   "metadata": {},
   "outputs": [],
   "source": [
    "class car :\n",
    "    \n",
    "    def __init__(self , make , model , year):\n",
    "        \n",
    "        self.make = make\n",
    "        self.model = model \n",
    "        self.year = year\n",
    "        \n",
    "    "
   ]
  },
  {
   "cell_type": "code",
   "execution_count": 3,
   "id": "7a4b3ab5-2675-4a7b-8b9b-8891e3afa014",
   "metadata": {},
   "outputs": [],
   "source": [
    "my_car = car(\"mahindra\" , \"scorpio\" , 2020)"
   ]
  },
  {
   "cell_type": "code",
   "execution_count": 7,
   "id": "29161d5e-938a-4ffc-b338-be3566b0b000",
   "metadata": {},
   "outputs": [
    {
     "data": {
      "text/plain": [
       "'mahindra'"
      ]
     },
     "execution_count": 7,
     "metadata": {},
     "output_type": "execute_result"
    }
   ],
   "source": [
    "my_car.make"
   ]
  },
  {
   "cell_type": "markdown",
   "id": "c1b36c49-51af-4127-b93a-5a7a5af62cc0",
   "metadata": {},
   "source": [
    "In the above code  my_car is an object created from the car class \n",
    "its own values for 'make' , 'model' , 'year'  and it can perforn actions defined by the class method \n",
    "\n",
    "\n",
    "A class is a blueprint or template that defines the structure and behavior of objects, while an object is an instance of a class, representing a specific, tangible entity with its own attributes and methods. OOP allows you to model complex systems by organizing code into reusable classes and creating instances of those classes to work with specific data and behaviors.\n",
    "\n",
    "\n"
   ]
  },
  {
   "cell_type": "markdown",
   "id": "e227d38c-4bd0-4e34-9126-d8e3136c78e2",
   "metadata": {},
   "source": [
    "Q2. Name the four pillars of OOPs.\n",
    "\n",
    "ANS -\n",
    "\n",
    "The four pillars of Object-Oriented Programming (OOP) are:\n",
    "\n",
    "Encapsulation: Encapsulation is the concept of bundling data (attributes) and methods (functions) that operate on that data into a single unit called a class. It restricts direct access to some of the object's components and prevents the accidental modification of data. It enforces data hiding and helps in achieving data abstraction.\n",
    "\n",
    "Inheritance: Inheritance is a mechanism by which one class can inherit the attributes and methods of another class. It allows for the creation of a new class (derived or child class) based on an existing class (base or parent class). Inheritance promotes code reuse and the creation of a hierarchy of classes.\n",
    "\n",
    "Polymorphism: Polymorphism means \"many shapes\" and refers to the ability of different objects to respond to the same method or message in their own unique way. It allows objects of different classes to be treated as objects of a common superclass, and it is often associated with method overriding and method overloading.\n",
    "\n",
    "Abstraction: Abstraction is the process of simplifying complex reality by modeling classes based on the essential properties and behaviors of objects, while ignoring irrelevant details. It involves defining a clear and abstract interface for a class, hiding the implementation details, and focusing on what an object does rather than how it does it.\n",
    "\n"
   ]
  },
  {
   "cell_type": "markdown",
   "id": "065260dd-42e5-496e-bca7-dcf49b9c2516",
   "metadata": {},
   "source": [
    "Q3. Explain why the __init__() function is used. Give a suitable example.\n",
    "\n",
    "ANS - \n",
    "\n",
    "In object-oriented programming (OOP), the __init__() function, often referred to as the constructor, is a special method used to initialize the attributes or properties of an object when an instance of a class is created. It is automatically called when you create a new object from a class and allows you to set initial values for the object's attributes.\n",
    "\n",
    "Here's why the __init__() function is used:\n",
    "\n",
    "Initialization: It allows you to set the initial state or values of an object's attributes. When you create an instance of a class, you can pass arguments to the __init__() method to initialize the object with specific values.\n",
    "\n",
    "Attribute Assignment: It assigns values to the object's attributes, making those attributes available for use within the object's methods. This helps ensure that every object created from the class starts with the desired state.\n",
    "\n",
    "Customization: You can define the __init__() method to accept different arguments and perform specific actions based on those arguments, allowing for customization of object initialization.\n",
    "\n",
    "Here's an example of how the __init__() function is used in Python:\n"
   ]
  },
  {
   "cell_type": "code",
   "execution_count": 1,
   "id": "f588bba5-bef4-4f2a-ab64-359618c0318f",
   "metadata": {},
   "outputs": [],
   "source": [
    "class Person :\n",
    "    def __init__(self , name , age):\n",
    "        self.name = name \n",
    "        self.age =  age \n",
    "        \n",
    "    def introduce(self):\n",
    "        print(f\"my name is {self.name} and i am {self.age}year old.\")"
   ]
  },
  {
   "cell_type": "code",
   "execution_count": 3,
   "id": "573ba09d-c0d6-46fb-b826-041f9b9803cf",
   "metadata": {},
   "outputs": [],
   "source": [
    "person1 = Person(\"ayush\" , 20)"
   ]
  },
  {
   "cell_type": "code",
   "execution_count": 4,
   "id": "55fb2b5b-45d8-481d-a17b-6f4bcea28cae",
   "metadata": {},
   "outputs": [
    {
     "name": "stdout",
     "output_type": "stream",
     "text": [
      "my name is ayush and i am 20year old.\n"
     ]
    }
   ],
   "source": [
    "person1.introduce()"
   ]
  },
  {
   "cell_type": "markdown",
   "id": "4536b096-8913-4a9a-a893-f298d0db8bae",
   "metadata": {},
   "source": [
    "Q4. Why self is used in OOPs?\n",
    "\n",
    "Ans - \n",
    "self is used in OOP to maintain the context of the instance and allows methods to interact with instance variables, call other methods within the class, and work with multiple instances of the class. It helps ensure that operations are performed on the correct object's data.\n"
   ]
  },
  {
   "cell_type": "markdown",
   "id": "f1d26092-12be-446f-ada0-bb1819457911",
   "metadata": {},
   "source": [
    "Q5. What is inheritance? Give an example for each type of inheritance.\n",
    "\n",
    "Ans - Inheritance is one of the four fundamental principles of object-oriented programming (OOP), and it allows you to create a new class (called a derived or child class) based on an existing class (called a base or parent class). The derived class inherits attributes and behaviors (i.e., methods) from the base class, promoting code reuse and the creation of a hierarchy of classes. Inheritance establishes an \"is-a\" relationship between the base class and the derived class.\n",
    "\n"
   ]
  },
  {
   "cell_type": "markdown",
   "id": "64ec277f-3c5f-4afb-a350-51528d4b1056",
   "metadata": {},
   "source": [
    "multilabel inheritance example"
   ]
  },
  {
   "cell_type": "code",
   "execution_count": 5,
   "id": "c9de5e99-9442-4d46-aea4-60e514341abc",
   "metadata": {},
   "outputs": [],
   "source": [
    "class class1:\n",
    "    \n",
    "    def test_class1(self) :\n",
    "        return \"this is method from class 1\"\n",
    "    "
   ]
  },
  {
   "cell_type": "code",
   "execution_count": 6,
   "id": "0d8fd0b7-9756-49f1-a611-235835e05c90",
   "metadata": {},
   "outputs": [],
   "source": [
    "class class2(class1) :\n",
    "    \n",
    "    def test_class2(self) :\n",
    "        return \"this is meyhod from class 2\""
   ]
  },
  {
   "cell_type": "code",
   "execution_count": 7,
   "id": "abd3ff46-911f-46c0-9dc0-ff755898989c",
   "metadata": {},
   "outputs": [],
   "source": [
    "class class3(class2) :\n",
    "    pass"
   ]
  },
  {
   "cell_type": "code",
   "execution_count": 8,
   "id": "96fafa14-1806-4f42-9ce2-324ca0472c69",
   "metadata": {},
   "outputs": [],
   "source": [
    "obj_class3 = class3()"
   ]
  },
  {
   "cell_type": "code",
   "execution_count": 9,
   "id": "398d937d-6e94-4ab9-bfbe-ed4ff506f1c8",
   "metadata": {},
   "outputs": [
    {
     "data": {
      "text/plain": [
       "'this is method from class 1'"
      ]
     },
     "execution_count": 9,
     "metadata": {},
     "output_type": "execute_result"
    }
   ],
   "source": [
    "obj_class3.test_class1()"
   ]
  },
  {
   "cell_type": "code",
   "execution_count": 10,
   "id": "d6cc8f3a-0cbd-4cb0-b8fb-cd811b06a00d",
   "metadata": {},
   "outputs": [
    {
     "data": {
      "text/plain": [
       "'this is meyhod from class 2'"
      ]
     },
     "execution_count": 10,
     "metadata": {},
     "output_type": "execute_result"
    }
   ],
   "source": [
    "obj_class3.test_class2()"
   ]
  },
  {
   "cell_type": "markdown",
   "id": "3cafd803-f57c-4f95-8272-04727f57ca92",
   "metadata": {},
   "source": [
    "multiple inheritance example"
   ]
  },
  {
   "cell_type": "code",
   "execution_count": 21,
   "id": "ae28c900-0729-48ff-b8f3-7beaf4d4bc98",
   "metadata": {},
   "outputs": [],
   "source": [
    "class class1 :\n",
    "    \n",
    "    def test_class1(self) :\n",
    "        return \"this is a class 1\""
   ]
  },
  {
   "cell_type": "code",
   "execution_count": 22,
   "id": "f88e88ab-67bd-409c-a795-ba91f7b2fc6d",
   "metadata": {},
   "outputs": [],
   "source": [
    "class class2:\n",
    "    \n",
    "    def test_class2(self) :\n",
    "        return \"this is class2\""
   ]
  },
  {
   "cell_type": "code",
   "execution_count": 25,
   "id": "fc85f7f6-9411-4ba8-ad5c-659059cf0f9a",
   "metadata": {},
   "outputs": [],
   "source": [
    "class class3(class1 , class2) :\n",
    "    pass"
   ]
  },
  {
   "cell_type": "code",
   "execution_count": 26,
   "id": "645e3339-d916-4cca-8d74-77d5c05a9337",
   "metadata": {},
   "outputs": [],
   "source": [
    "obj_class3  = class3()"
   ]
  },
  {
   "cell_type": "code",
   "execution_count": 28,
   "id": "794a0af4-7fbf-4ec8-b133-55e0c29a876e",
   "metadata": {},
   "outputs": [
    {
     "data": {
      "text/plain": [
       "'this is a class 1'"
      ]
     },
     "execution_count": 28,
     "metadata": {},
     "output_type": "execute_result"
    }
   ],
   "source": [
    "obj_class3.test_class1()"
   ]
  },
  {
   "cell_type": "code",
   "execution_count": 29,
   "id": "20920eff-d501-4360-a035-9728486f2d1a",
   "metadata": {},
   "outputs": [
    {
     "data": {
      "text/plain": [
       "'this is class2'"
      ]
     },
     "execution_count": 29,
     "metadata": {},
     "output_type": "execute_result"
    }
   ],
   "source": [
    "obj_class3.test_class2()"
   ]
  },
  {
   "cell_type": "code",
   "execution_count": null,
   "id": "8c9d2d92-8850-4068-8da9-69c4b44cf256",
   "metadata": {},
   "outputs": [],
   "source": []
  }
 ],
 "metadata": {
  "kernelspec": {
   "display_name": "Python 3 (ipykernel)",
   "language": "python",
   "name": "python3"
  },
  "language_info": {
   "codemirror_mode": {
    "name": "ipython",
    "version": 3
   },
   "file_extension": ".py",
   "mimetype": "text/x-python",
   "name": "python",
   "nbconvert_exporter": "python",
   "pygments_lexer": "ipython3",
   "version": "3.10.8"
  }
 },
 "nbformat": 4,
 "nbformat_minor": 5
}
